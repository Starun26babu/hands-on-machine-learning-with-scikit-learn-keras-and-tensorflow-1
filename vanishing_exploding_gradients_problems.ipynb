{
  "nbformat": 4,
  "nbformat_minor": 0,
  "metadata": {
    "colab": {
      "name": "vanishing-exploding-gradients-problems.ipynb",
      "provenance": [],
      "toc_visible": true,
      "include_colab_link": true
    },
    "kernelspec": {
      "name": "python3",
      "display_name": "Python 3"
    }
  },
  "cells": [
    {
      "cell_type": "markdown",
      "metadata": {
        "id": "view-in-github",
        "colab_type": "text"
      },
      "source": [
        "<a href=\"https://colab.research.google.com/github/rahiakela/hands-on-machine-learning-with-scikit-learn-keras-and-tensorflow/blob/11-training-deep-neural-networks/vanishing_exploding_gradients_problems.ipynb\" target=\"_parent\"><img src=\"https://colab.research.google.com/assets/colab-badge.svg\" alt=\"Open In Colab\"/></a>"
      ]
    },
    {
      "cell_type": "markdown",
      "metadata": {
        "id": "y8_A5Z6sAb41",
        "colab_type": "text"
      },
      "source": [
        "# Vanishing/Exploding Gradients Problems"
      ]
    },
    {
      "cell_type": "markdown",
      "metadata": {
        "id": "V2Wz6EiyA0VI",
        "colab_type": "text"
      },
      "source": [
        "You may need to train a much deeper DNN, perhaps with 10 layers or many more, each containing hundreds of neurons, linked by hundreds of thousands of connections. Training a deep DNN isn’t a walk in the park. Here are some of the problems you could run into:\n",
        "\n",
        "* You may be faced with the tricky vanishing gradients problem or the related exploding gradients problem. This is when the gradients grow smaller and smaller, or larger and larger, when flowing backward through the DNN during training. Both of these problems make lower layers very hard to train.\n",
        "* You might not have enough training data for such a large network, or it might be too costly to label.\n",
        "* Training may be extremely slow.\n",
        "* A model with millions of parameters would severely risk overfitting the training set, especially if there are not enough training instances or if they are too noisy."
      ]
    },
    {
      "cell_type": "markdown",
      "metadata": {
        "id": "F8pTUm7gBfsk",
        "colab_type": "text"
      },
      "source": [
        "## Setup"
      ]
    },
    {
      "cell_type": "code",
      "metadata": {
        "id": "ntT3XiNXBhBg",
        "colab_type": "code",
        "outputId": "7ec707b8-6d3c-460e-ea94-1c78a49e7eb8",
        "colab": {
          "base_uri": "https://localhost:8080/",
          "height": 35
        }
      },
      "source": [
        "import sys\n",
        "assert sys.version_info >= (3, 5)  # Python ≥3.5 is required\n",
        "\n",
        "import sklearn \n",
        "assert sklearn.__version__ >= \"0.20\"  # Scikit-Learn ≥0.20 is required\n",
        "\n",
        "# %tensorflow_version only exists in Colab.\n",
        "try:\n",
        "  %tensorflow_version 2.x\n",
        "except Exception:\n",
        "  pass\n",
        "\n",
        "# TensorFlow ≥2.0 is required\n",
        "import tensorflow as tf\n",
        "from tensorflow import keras\n",
        "assert tf.__version__ >= '2.0'\n",
        "\n",
        "# Common imports\n",
        "import numpy as np\n",
        "import os\n",
        "\n",
        "# to make this notebook's output stable across runs\n",
        "np.random.seed(42)\n",
        "\n",
        "# To plot pretty figures\n",
        "%matplotlib inline\n",
        "import matplotlib as mpl\n",
        "import matplotlib.pyplot as plt\n",
        "mpl.rc('axes', labelsize=14)\n",
        "mpl.rc('xtick', labelsize=12)\n",
        "mpl.rc('ytick', labelsize=12)"
      ],
      "execution_count": 1,
      "outputs": [
        {
          "output_type": "stream",
          "text": [
            "TensorFlow 2.x selected.\n"
          ],
          "name": "stdout"
        }
      ]
    },
    {
      "cell_type": "markdown",
      "metadata": {
        "id": "85MFnW9KEBqm",
        "colab_type": "text"
      },
      "source": [
        "## Vanishing/Exploding Gradients Problem"
      ]
    },
    {
      "cell_type": "markdown",
      "metadata": {
        "id": "_DdCraTzECo_",
        "colab_type": "text"
      },
      "source": [
        "Unfortunately, gradients often get smaller and smaller as the algorithm progresses down to the lower layers. As a result, the Gradient Descent update leaves the lower layers’ connection weights virtually unchanged, and training never converges to a good solution. We call this the vanishing gradients problem. \n",
        "\n",
        "In some cases, the opposite can happen: the gradients can grow bigger and bigger until layers get insanely large weight updates and the algorithm diverges. This is the exploding gradients problem, which surfaces in recurrent neural networks.\n",
        "\n",
        "This unfortunate behavior was empirically observed long ago, and it was one of the reasons deep neural networks were mostly abandoned in the early 2000s. It wasn’t clear what caused the gradients to be so unstable when training a DNN, but some light was shed in a 2010 paper by Xavier Glorot and Yoshua Bengio. \n",
        "\n",
        "The authors found a few suspects, including the combination of the popular logistic sigmoid activation function and the weight initialization technique that was most popular at the time (i.e., a normal distribution with a mean of 0 and a standard deviation of 1). In short, they showed that with this activation function and this initialization scheme, the variance of the outputs of each layer is much greater than the variance of its inputs. \n",
        "\n",
        "Going forward in the network, the variance keeps increasing after each layer until the activation function saturates at the top layers. This saturation is actually made worse by the fact that the logistic function has a mean of 0.5, not 0 (the hyperbolic tangent function has a mean of 0 and behaves slightly better than the logistic function in deep networks)."
      ]
    },
    {
      "cell_type": "markdown",
      "metadata": {
        "id": "z3Fw_qRjJimI",
        "colab_type": "text"
      },
      "source": [
        "### Logistic activation function saturation"
      ]
    },
    {
      "cell_type": "markdown",
      "metadata": {
        "id": "8cTrLKr2Jj-e",
        "colab_type": "text"
      },
      "source": [
        "Looking at the logistic activation function, you can see that when inputs become large (negative or positive), the function saturates at 0 or 1, with a derivative extremely close to 0. Thus, when backpropagation kicks in it has virtually no gradient to propagate back through the network; and what little gradient exists keeps getting diluted as backpropagation progresses down through the top layers,so there is really nothing left for the lower layers."
      ]
    },
    {
      "cell_type": "code",
      "metadata": {
        "id": "sxxLy-tODG7s",
        "colab_type": "code",
        "colab": {}
      },
      "source": [
        "def sigmoid(z):\n",
        "  return 1 / (1 + np.exp(-z))"
      ],
      "execution_count": 0,
      "outputs": []
    },
    {
      "cell_type": "code",
      "metadata": {
        "id": "cUeWGnYmFxPR",
        "colab_type": "code",
        "outputId": "829b77e6-5216-4c06-a5a9-d5d4c3fce00f",
        "colab": {
          "base_uri": "https://localhost:8080/",
          "height": 285
        }
      },
      "source": [
        "z = np.linspace(-5, 5, 200)\n",
        "\n",
        "plt.plot([-5, 5], [0, 0], 'k-')         # lower solid black line\n",
        "plt.plot([-5, 5], [1, 1], 'k--')        # upper dashed black line\n",
        "\n",
        "plt.plot([0, 0], [-0.2, 1.2], 'k-')     # zero divider black line\n",
        "plt.plot([-5, 5], [-3/4, 7/4], 'g--')   # green dashed line\n",
        "\n",
        "plt.plot(z, sigmoid(z), 'b-', linewidth=2)\n",
        "\n",
        "props = dict(facecolor='red', shrink=0.1)\n",
        "plt.annotate('Saturating', xytext=(3.5, 0.7), xy=(5, 1), arrowprops=props, fontsize=14, ha='center')\n",
        "plt.annotate('Saturating', xytext=(-3.5, 0.3), xy=(-5, 0), arrowprops=props, fontsize=14, ha='center')\n",
        "plt.annotate('Linear', xytext=(2, 0.2), xy=(0, 0.5), arrowprops=props, fontsize=14, ha='center')\n",
        "\n",
        "plt.grid(True)\n",
        "plt.title('Sigmoid activation function', fontsize=14)\n",
        "plt.axis([-5, 5, -0.2, 1.2])\n",
        "\n",
        "plt.show()"
      ],
      "execution_count": 3,
      "outputs": [
        {
          "output_type": "display_data",
          "data": {
            "image/png": "[encoded data removed]",
            "text/plain": [
              "<Figure size 432x288 with 1 Axes>"
            ]
          },
          "metadata": {
            "tags": []
          }
        }
      ]
    },
    {
      "cell_type": "markdown",
      "metadata": {
        "id": "Nnqc-WzhJ0zO",
        "colab_type": "text"
      },
      "source": [
        "### Glorot and He Initialization"
      ]
    },
    {
      "cell_type": "markdown",
      "metadata": {
        "id": "49D3a4f0J1zY",
        "colab_type": "text"
      },
      "source": [
        "Glorot and Bengio propose a way to significantly alleviate the unstable gradients problem. They point out that we need the signal to flow properly in both directions: in the forward direction when making predictions, and in the reverse direction when backpropagating gradients. We don’t want the signal to die out, nor do we want it to explode and saturate. \n",
        "\n",
        "For the signal to flow properly, the authors argue that we need the variance of the outputs of each layer to be equal to the variance of its inputs, 2 and we need the gradients to have equal variance before and after flowing through a layer in the reverse direction.\n",
        "\n",
        "is actually not possible to guarantee both unless the layer has an equal number of inputs and neurons (these numbers are called the fan-in and fan-out of the layer), but Glorot and Bengio proposed a good compromise that has proven to work very well in practice: the connection weights of each layer must be initialized randomly.\n",
        "\n",
        "This initialization strategy is called Xavier initialization or Glorot initialization , after the paper’s first author.\n",
        "\n",
        "By default, Keras uses Glorot initialization with a uniform distribution. When creating a layer, you can change this to He initialization by setting kernel_initializer=\"he_uniform\" or kernel_initializer=\"he_normal\" like this:"
      ]
    },
    {
      "cell_type": "code",
      "metadata": {
        "id": "Cdo25h7xIwFr",
        "colab_type": "code",
        "outputId": "29fdd36e-9b33-490e-e3fd-c8ae5a5f5d8e",
        "colab": {
          "base_uri": "https://localhost:8080/",
          "height": 479
        }
      },
      "source": [
        "[name for name in dir(keras.initializers) if not name.startswith('_')]"
      ],
      "execution_count": 4,
      "outputs": [
        {
          "output_type": "execute_result",
          "data": {
            "text/plain": [
              "['Constant',\n",
              " 'GlorotNormal',\n",
              " 'GlorotUniform',\n",
              " 'Identity',\n",
              " 'Initializer',\n",
              " 'Ones',\n",
              " 'Orthogonal',\n",
              " 'RandomNormal',\n",
              " 'RandomUniform',\n",
              " 'TruncatedNormal',\n",
              " 'VarianceScaling',\n",
              " 'Zeros',\n",
              " 'constant',\n",
              " 'deserialize',\n",
              " 'get',\n",
              " 'glorot_normal',\n",
              " 'glorot_uniform',\n",
              " 'he_normal',\n",
              " 'he_uniform',\n",
              " 'identity',\n",
              " 'lecun_normal',\n",
              " 'lecun_uniform',\n",
              " 'ones',\n",
              " 'orthogonal',\n",
              " 'serialize',\n",
              " 'zeros']"
            ]
          },
          "metadata": {
            "tags": []
          },
          "execution_count": 4
        }
      ]
    },
    {
      "cell_type": "code",
      "metadata": {
        "id": "brqYbWdbLfsO",
        "colab_type": "code",
        "outputId": "d2a16e98-4931-4662-8b6b-c68cefb192e1",
        "colab": {
          "base_uri": "https://localhost:8080/",
          "height": 35
        }
      },
      "source": [
        "keras.layers.Dense(10, activation='relu', kernel_initializer='he_normal')"
      ],
      "execution_count": 5,
      "outputs": [
        {
          "output_type": "execute_result",
          "data": {
            "text/plain": [
              "<tensorflow.python.keras.layers.core.Dense at 0x7f8ffebcc198>"
            ]
          },
          "metadata": {
            "tags": []
          },
          "execution_count": 5
        }
      ]
    },
    {
      "cell_type": "markdown",
      "metadata": {
        "id": "_j0IMa2OL9EQ",
        "colab_type": "text"
      },
      "source": [
        "If you want He initialization with a uniform distribution but based on fan avg rather than fan in , you can use the VarianceScaling initializer like this:"
      ]
    },
    {
      "cell_type": "code",
      "metadata": {
        "id": "CZrUxC2HLzZg",
        "colab_type": "code",
        "outputId": "73a2b597-25bd-431e-d7f2-5a4231ea4a87",
        "colab": {
          "base_uri": "https://localhost:8080/",
          "height": 35
        }
      },
      "source": [
        "init = keras.initializers.VarianceScaling(scale=2., mode='fan_avg', distribution='uniform')\n",
        "keras.layers.Dense(10, activation='relu', kernel_initializer=init)"
      ],
      "execution_count": 6,
      "outputs": [
        {
          "output_type": "execute_result",
          "data": {
            "text/plain": [
              "<tensorflow.python.keras.layers.core.Dense at 0x7f8fbe21d2b0>"
            ]
          },
          "metadata": {
            "tags": []
          },
          "execution_count": 6
        }
      ]
    },
    {
      "cell_type": "markdown",
      "metadata": {
        "id": "xgIN_OwiNDUl",
        "colab_type": "text"
      },
      "source": [
        "### Nonsaturating Activation Functions"
      ]
    },
    {
      "cell_type": "markdown",
      "metadata": {
        "id": "Z5sZo2MuNE1I",
        "colab_type": "text"
      },
      "source": [
        "One of the insights in the 2010 paper by Glorot and Bengio was that the problems with unstable gradients were in part due to a poor choice of activation function. Until then most people had assumed that if Mother Nature had chosen to use roughly sigmoid activation functions in biological neurons, they must be an excellent choice. But it turns out that other activation functions behave much better in deep neural networks—in particular, the ReLU activation function, mostly because it does not saturate for positive values (and because it is fast to compute).\n",
        "\n",
        "Unfortunately, the ReLU activation function is not perfect. It suffers from a problem known as the dying ReLUs : during training, some neurons effectively “die,” meaning they stop outputting anything other than 0. \n",
        "\n",
        "In some cases, you may find that half of your network’s neurons are dead, especially if you used a large learning rate. \n",
        "\n",
        "A neuron dies when its weights get tweaked in such a way that the weighted sum of its inputs are negative for all instances in the training set. When this happens, it just keeps outputting zeros, and Gradient Descent does not affect it anymore because the gradient of the ReLU function is zero when its input is negative."
      ]
    },
    {
      "cell_type": "markdown",
      "metadata": {
        "id": "V_1KOjfarr88",
        "colab_type": "text"
      },
      "source": [
        "#### LeakyReLU"
      ]
    },
    {
      "cell_type": "markdown",
      "metadata": {
        "id": "tq-igf9YrtkK",
        "colab_type": "text"
      },
      "source": [
        "To solve this problem, you may want to use a variant of the ReLU function, such as the leaky ReLU . This function is defined as LeakyReLU α(z) = max(αz,z). The hyperparameter α defines how much the function “leaks”: it is the slope of the function for z < 0 and is typically set to 0.01. This small slope ensures that leaky ReLUs never die; they can go into a long coma, but they have a chance to eventually wake up."
      ]
    },
    {
      "cell_type": "code",
      "metadata": {
        "id": "15w-1jfrMaiA",
        "colab_type": "code",
        "colab": {}
      },
      "source": [
        "def leaky_relu(z, alpha=0.01):\n",
        "  return np.maximum(alpha * z, z)"
      ],
      "execution_count": 0,
      "outputs": []
    },
    {
      "cell_type": "code",
      "metadata": {
        "id": "SpShzNTQPmEq",
        "colab_type": "code",
        "outputId": "25c881e3-60c1-4660-c977-76f64e078086",
        "colab": {
          "base_uri": "https://localhost:8080/",
          "height": 285
        }
      },
      "source": [
        "plt.plot(z, leaky_relu(z, 0.05), \"b-\", linewidth=2)\n",
        "\n",
        "plt.plot([-5, 5], [0, 0], 'k-')\n",
        "plt.plot([0, 0], [-0.5, 4.2], 'k-')\n",
        "plt.grid(True)\n",
        "\n",
        "props = dict(facecolor='black', shrink=0.1)\n",
        "plt.annotate('Leak', xytext=(-3.5, 0.5), xy=(-5, -0.2), arrowprops=props, fontsize=14, ha=\"center\")\n",
        "plt.title(\"Leaky ReLU activation function\", fontsize=14)\n",
        "plt.axis([-5, 5, -0.5, 4.2])\n",
        "\n",
        "plt.show()"
      ],
      "execution_count": 8,
      "outputs": [
        {
          "output_type": "display_data",
          "data": {
            "image/png": "[encoded data removed]",
            "text/plain": [
              "<Figure size 432x288 with 1 Axes>"
            ]
          },
          "metadata": {
            "tags": []
          }
        }
      ]
    },
    {
      "cell_type": "code",
      "metadata": {
        "id": "qVTY53LvQ8T_",
        "colab_type": "code",
        "outputId": "57f68f06-3015-49a7-df02-0e5e1c1c6469",
        "colab": {
          "base_uri": "https://localhost:8080/",
          "height": 266
        }
      },
      "source": [
        "[name for name in dir(keras.activations) if not name.startswith('_')]"
      ],
      "execution_count": 9,
      "outputs": [
        {
          "output_type": "execute_result",
          "data": {
            "text/plain": [
              "['deserialize',\n",
              " 'elu',\n",
              " 'exponential',\n",
              " 'get',\n",
              " 'hard_sigmoid',\n",
              " 'linear',\n",
              " 'relu',\n",
              " 'selu',\n",
              " 'serialize',\n",
              " 'sigmoid',\n",
              " 'softmax',\n",
              " 'softplus',\n",
              " 'softsign',\n",
              " 'tanh']"
            ]
          },
          "metadata": {
            "tags": []
          },
          "execution_count": 9
        }
      ]
    },
    {
      "cell_type": "code",
      "metadata": {
        "id": "qV1RNLjVRPdz",
        "colab_type": "code",
        "outputId": "c5e76622-c7de-4d9c-ab98-6314db5712a2",
        "colab": {
          "base_uri": "https://localhost:8080/",
          "height": 35
        }
      },
      "source": [
        "[m for m in dir(keras.layers) if \"relu\" in m.lower()]"
      ],
      "execution_count": 10,
      "outputs": [
        {
          "output_type": "execute_result",
          "data": {
            "text/plain": [
              "['LeakyReLU', 'PReLU', 'ReLU', 'ThresholdedReLU']"
            ]
          },
          "metadata": {
            "tags": []
          },
          "execution_count": 10
        }
      ]
    },
    {
      "cell_type": "markdown",
      "metadata": {
        "id": "z2snY35nSKSQ",
        "colab_type": "text"
      },
      "source": [
        "Let's train a neural network on Fashion MNIST using the Leaky ReLU:"
      ]
    },
    {
      "cell_type": "code",
      "metadata": {
        "id": "e6jVpb8-R6Rr",
        "colab_type": "code",
        "colab": {}
      },
      "source": [
        "(X_train_full, y_train_full), (X_test, y_test) = keras.datasets.fashion_mnist.load_data()\n",
        "\n",
        "X_train_full = X_train_full / 255.\n",
        "X_test = X_test / 255.\n",
        "\n",
        "X_valid, X_train = X_train_full[:5000], X_train_full[5000:]\n",
        "y_valid, y_train = y_train_full[:5000], y_train_full[5000:]"
      ],
      "execution_count": 0,
      "outputs": []
    },
    {
      "cell_type": "code",
      "metadata": {
        "id": "vxNBnZWckjPv",
        "colab_type": "code",
        "colab": {}
      },
      "source": [
        "tf.random.set_seed(42)\n",
        "np.random.seed(42)\n",
        "\n",
        "model = keras.Sequential([\n",
        "    keras.layers.Flatten(input_shape=[28, 28]),\n",
        "    keras.layers.Dense(300, kernel_initializer='he_normal'),\n",
        "    keras.layers.LeakyReLU(),\n",
        "    keras.layers.Dense(100, kernel_initializer='he_normal'),\n",
        "    keras.layers.LeakyReLU(),\n",
        "    keras.layers.Dense(10, activation='softmax')\n",
        "])"
      ],
      "execution_count": 0,
      "outputs": []
    },
    {
      "cell_type": "code",
      "metadata": {
        "id": "Liqm-zx3m4Zk",
        "colab_type": "code",
        "colab": {
          "base_uri": "https://localhost:8080/",
          "height": 390
        },
        "outputId": "6defed87-6349-4ded-c3fe-7f9a6260c73f"
      },
      "source": [
        "model.compile(loss='sparse_categorical_crossentropy', optimizer=keras.optimizers.SGD(learning_rate=1e-3), metrics=['accuracy'])\n",
        "history = model.fit(X_train, y_train, epochs=10, validation_data=(X_valid, y_valid))"
      ],
      "execution_count": 14,
      "outputs": [
        {
          "output_type": "stream",
          "text": [
            "Train on 55000 samples, validate on 5000 samples\n",
            "Epoch 1/10\n",
            "55000/55000 [==============================] - 8s 152us/sample - loss: 1.2806 - accuracy: 0.6250 - val_loss: 0.8882 - val_accuracy: 0.7150\n",
            "Epoch 2/10\n",
            "55000/55000 [==============================] - 8s 147us/sample - loss: 0.7954 - accuracy: 0.7373 - val_loss: 0.7135 - val_accuracy: 0.7648\n",
            "Epoch 3/10\n",
            "55000/55000 [==============================] - 8s 149us/sample - loss: 0.6816 - accuracy: 0.7726 - val_loss: 0.6355 - val_accuracy: 0.7882\n",
            "Epoch 4/10\n",
            "55000/55000 [==============================] - 8s 138us/sample - loss: 0.6215 - accuracy: 0.7935 - val_loss: 0.5922 - val_accuracy: 0.8010\n",
            "Epoch 5/10\n",
            "55000/55000 [==============================] - 7s 135us/sample - loss: 0.5830 - accuracy: 0.8082 - val_loss: 0.5596 - val_accuracy: 0.8170\n",
            "Epoch 6/10\n",
            "55000/55000 [==============================] - 7s 129us/sample - loss: 0.5553 - accuracy: 0.8155 - val_loss: 0.5339 - val_accuracy: 0.8238\n",
            "Epoch 7/10\n",
            "55000/55000 [==============================] - 7s 132us/sample - loss: 0.5341 - accuracy: 0.8221 - val_loss: 0.5157 - val_accuracy: 0.8314\n",
            "Epoch 8/10\n",
            "55000/55000 [==============================] - 8s 137us/sample - loss: 0.5172 - accuracy: 0.8266 - val_loss: 0.5035 - val_accuracy: 0.8340\n",
            "Epoch 9/10\n",
            "55000/55000 [==============================] - 8s 144us/sample - loss: 0.5036 - accuracy: 0.8297 - val_loss: 0.4950 - val_accuracy: 0.8354\n",
            "Epoch 10/10\n",
            "55000/55000 [==============================] - 8s 138us/sample - loss: 0.4922 - accuracy: 0.8324 - val_loss: 0.4797 - val_accuracy: 0.8426\n"
          ],
          "name": "stdout"
        }
      ]
    },
    {
      "cell_type": "code",
      "metadata": {
        "id": "qR3sPhYep0Lm",
        "colab_type": "code",
        "colab": {
          "base_uri": "https://localhost:8080/",
          "height": 302
        },
        "outputId": "30f76bdd-3ca5-4a98-eae7-c8f2e06f94fc"
      },
      "source": [
        "# Plotting the training and validation loss\n",
        "loss = history.history['loss']\n",
        "val_loss = history.history['val_loss']\n",
        "\n",
        "epochs = range(1, len(loss) + 1)\n",
        "\n",
        "plt.plot(epochs, loss, 'bo-', label='Training loss')\n",
        "plt.plot(epochs, val_loss, 'b--', label='Validation loss')\n",
        "plt.title('Training and validation loss on LeakyReLU')\n",
        "plt.xlabel('Epochs')\n",
        "plt.ylabel('Loss')\n",
        "plt.legend()\n",
        "\n",
        "plt.show()"
      ],
      "execution_count": 23,
      "outputs": [
        {
          "output_type": "display_data",
          "data": {
            "image/png": "[encoded data removed]",
            "text/plain": [
              "<Figure size 432x288 with 1 Axes>"
            ]
          },
          "metadata": {
            "tags": []
          }
        }
      ]
    },
    {
      "cell_type": "markdown",
      "metadata": {
        "id": "Km7ek0kvra3o",
        "colab_type": "text"
      },
      "source": [
        "#### PReLU"
      ]
    },
    {
      "cell_type": "markdown",
      "metadata": {
        "id": "asXvyEQBnoen",
        "colab_type": "text"
      },
      "source": [
        "Finally, the paper evaluated the parametric leaky ReLU (PReLU), where α is authorized to be learned during training (instead of being a hyperparameter, it becomes a parameter that can be modified by backpropagation like any other parameter). PReLU was reported to strongly outperform ReLU on large image datasets, but on smaller datasets it runs the risk of overfitting the training set.\n",
        "\n",
        "Now let's try PReLU:"
      ]
    },
    {
      "cell_type": "code",
      "metadata": {
        "id": "QylQ_sxwnYgj",
        "colab_type": "code",
        "colab": {
          "base_uri": "https://localhost:8080/",
          "height": 390
        },
        "outputId": "218c8cdb-2d20-46b2-e1ff-dd38867d4b90"
      },
      "source": [
        "tf.random.set_seed(42)\n",
        "np.random.seed(42)\n",
        "\n",
        "model = keras.Sequential([\n",
        "    keras.layers.Flatten(input_shape=[28, 28]),\n",
        "    keras.layers.Dense(300, kernel_initializer='he_normal'),\n",
        "    keras.layers.PReLU(),\n",
        "    keras.layers.Dense(100, kernel_initializer='he_normal'),\n",
        "    keras.layers.PReLU(),\n",
        "    keras.layers.Dense(10, activation='softmax')\n",
        "])\n",
        "\n",
        "model.compile(loss='sparse_categorical_crossentropy', optimizer=keras.optimizers.SGD(learning_rate=1e-3), metrics=['accuracy'])\n",
        "history_1 = model.fit(X_train, y_train, epochs=10, validation_data=(X_valid, y_valid))"
      ],
      "execution_count": 22,
      "outputs": [
        {
          "output_type": "stream",
          "text": [
            "Train on 55000 samples, validate on 5000 samples\n",
            "Epoch 1/10\n",
            "55000/55000 [==============================] - 9s 165us/sample - loss: 1.3470 - accuracy: 0.6225 - val_loss: 0.9268 - val_accuracy: 0.7200\n",
            "Epoch 2/10\n",
            "55000/55000 [==============================] - 9s 161us/sample - loss: 0.8208 - accuracy: 0.7357 - val_loss: 0.7322 - val_accuracy: 0.7640\n",
            "Epoch 3/10\n",
            "55000/55000 [==============================] - 8s 152us/sample - loss: 0.6972 - accuracy: 0.7697 - val_loss: 0.6494 - val_accuracy: 0.7868\n",
            "Epoch 4/10\n",
            "55000/55000 [==============================] - 9s 158us/sample - loss: 0.6332 - accuracy: 0.7904 - val_loss: 0.6027 - val_accuracy: 0.8024\n",
            "Epoch 5/10\n",
            "55000/55000 [==============================] - 9s 156us/sample - loss: 0.5918 - accuracy: 0.8051 - val_loss: 0.5675 - val_accuracy: 0.8140\n",
            "Epoch 6/10\n",
            "55000/55000 [==============================] - 8s 152us/sample - loss: 0.5619 - accuracy: 0.8140 - val_loss: 0.5393 - val_accuracy: 0.8252\n",
            "Epoch 7/10\n",
            "55000/55000 [==============================] - 8s 150us/sample - loss: 0.5391 - accuracy: 0.8215 - val_loss: 0.5203 - val_accuracy: 0.8304\n",
            "Epoch 8/10\n",
            "55000/55000 [==============================] - 9s 159us/sample - loss: 0.5212 - accuracy: 0.8251 - val_loss: 0.5070 - val_accuracy: 0.8332\n",
            "Epoch 9/10\n",
            "55000/55000 [==============================] - 8s 153us/sample - loss: 0.5067 - accuracy: 0.8288 - val_loss: 0.4971 - val_accuracy: 0.8336\n",
            "Epoch 10/10\n",
            "55000/55000 [==============================] - 8s 150us/sample - loss: 0.4944 - accuracy: 0.8320 - val_loss: 0.4811 - val_accuracy: 0.8418\n"
          ],
          "name": "stdout"
        }
      ]
    },
    {
      "cell_type": "code",
      "metadata": {
        "id": "oxniFb3YqRPp",
        "colab_type": "code",
        "colab": {
          "base_uri": "https://localhost:8080/",
          "height": 302
        },
        "outputId": "ba71aa58-56ec-46cd-91fe-fadbb5804777"
      },
      "source": [
        "# Plotting the training and validation loss\n",
        "loss = history_1.history['loss']\n",
        "val_loss = history_1.history['val_loss']\n",
        "\n",
        "epochs = range(1, len(loss) + 1)\n",
        "\n",
        "plt.plot(epochs, loss, 'bo-', label='Training loss')\n",
        "plt.plot(epochs, val_loss, 'b--', label='Validation loss')\n",
        "plt.title('Training and validation loss on PReLU')\n",
        "plt.xlabel('Epochs')\n",
        "plt.ylabel('Loss')\n",
        "plt.legend()\n",
        "\n",
        "plt.show()"
      ],
      "execution_count": 24,
      "outputs": [
        {
          "output_type": "display_data",
          "data": {
            "image/png": "[encoded data removed]",
            "text/plain": [
              "<Figure size 432x288 with 1 Axes>"
            ]
          },
          "metadata": {
            "tags": []
          }
        }
      ]
    },
    {
      "cell_type": "markdown",
      "metadata": {
        "id": "KnHV6XZ9rV-d",
        "colab_type": "text"
      },
      "source": [
        "#### SELU"
      ]
    },
    {
      "cell_type": "markdown",
      "metadata": {
        "id": "IysVB5hxrTE2",
        "colab_type": "text"
      },
      "source": [
        "New activation function called the exponential linear unit (ELU) that outperformed all the ReLU variants in the authors’ experiments: training time was reduced, and the neural network performed better on the test set."
      ]
    },
    {
      "cell_type": "code",
      "metadata": {
        "id": "f9fMH8v7qMDq",
        "colab_type": "code",
        "colab": {}
      },
      "source": [
        "def elu(z, alpha=1):\n",
        "  return np.where(z < 0, alpha * (np.exp(z) -1), z)"
      ],
      "execution_count": 0,
      "outputs": []
    },
    {
      "cell_type": "code",
      "metadata": {
        "id": "ddoUlr9usKc1",
        "colab_type": "code",
        "colab": {
          "base_uri": "https://localhost:8080/",
          "height": 287
        },
        "outputId": "5cc35aac-5813-4138-d8d9-781c4525fb94"
      },
      "source": [
        "plt.plot(z, elu(z), 'b-', linewidth=2)\n",
        "plt.plot([-5, 5], [0, 0], 'k-')\n",
        "plt.plot([-5, 5], [-1, -1], 'g--')\n",
        "plt.plot([0, 0], [-2.2, 3.2], 'k-')\n",
        "plt.grid(True)\n",
        "plt.title(r'ELU activation function ($\\alpha=1$)', fontsize=14)\n",
        "plt.axis([-5, 5, -2.2, 3.2])\n",
        "\n",
        "plt.show()"
      ],
      "execution_count": 27,
      "outputs": [
        {
          "output_type": "display_data",
          "data": {
            "image/png": "[encoded data removed]",
            "text/plain": [
              "<Figure size 432x288 with 1 Axes>"
            ]
          },
          "metadata": {
            "tags": []
          }
        }
      ]
    },
    {
      "cell_type": "markdown",
      "metadata": {
        "id": "jAH3AYXIttPd",
        "colab_type": "text"
      },
      "source": [
        "Implementing ELU in TensorFlow is trivial, just specify the activation function when building each layer:"
      ]
    },
    {
      "cell_type": "code",
      "metadata": {
        "id": "kqWTn4uRtU6a",
        "colab_type": "code",
        "colab": {
          "base_uri": "https://localhost:8080/",
          "height": 390
        },
        "outputId": "c95c2d6f-a94f-49da-ae77-81cc42b39a8a"
      },
      "source": [
        "tf.random.set_seed(42)\n",
        "np.random.seed(42)\n",
        "\n",
        "model_2 = keras.Sequential([\n",
        "    keras.layers.Flatten(input_shape=[28, 28]),\n",
        "    keras.layers.Dense(300, activation='elu', kernel_initializer='he_normal'),\n",
        "    keras.layers.Dense(100, activation='elu', kernel_initializer='he_normal'),\n",
        "    keras.layers.Dense(10, activation='softmax')\n",
        "])\n",
        "\n",
        "model_2.compile(loss='sparse_categorical_crossentropy', optimizer=keras.optimizers.SGD(learning_rate=1e-3), metrics=['accuracy'])\n",
        "history_2 = model_2.fit(X_train, y_train, epochs=10, validation_data=(X_valid, y_valid))"
      ],
      "execution_count": 30,
      "outputs": [
        {
          "output_type": "stream",
          "text": [
            "Train on 55000 samples, validate on 5000 samples\n",
            "Epoch 1/10\n",
            "55000/55000 [==============================] - 8s 141us/sample - loss: 1.1190 - accuracy: 0.6485 - val_loss: 0.7916 - val_accuracy: 0.7386\n",
            "Epoch 2/10\n",
            "55000/55000 [==============================] - 7s 130us/sample - loss: 0.7224 - accuracy: 0.7569 - val_loss: 0.6573 - val_accuracy: 0.7834\n",
            "Epoch 3/10\n",
            "55000/55000 [==============================] - 7s 132us/sample - loss: 0.6315 - accuracy: 0.7886 - val_loss: 0.5937 - val_accuracy: 0.8044\n",
            "Epoch 4/10\n",
            "55000/55000 [==============================] - 7s 128us/sample - loss: 0.5822 - accuracy: 0.8054 - val_loss: 0.5583 - val_accuracy: 0.8152\n",
            "Epoch 5/10\n",
            "55000/55000 [==============================] - 7s 130us/sample - loss: 0.5507 - accuracy: 0.8139 - val_loss: 0.5311 - val_accuracy: 0.8262\n",
            "Epoch 6/10\n",
            "55000/55000 [==============================] - 7s 132us/sample - loss: 0.5281 - accuracy: 0.8205 - val_loss: 0.5103 - val_accuracy: 0.8300\n",
            "Epoch 7/10\n",
            "55000/55000 [==============================] - 7s 130us/sample - loss: 0.5110 - accuracy: 0.8253 - val_loss: 0.4954 - val_accuracy: 0.8348\n",
            "Epoch 8/10\n",
            "55000/55000 [==============================] - 7s 131us/sample - loss: 0.4974 - accuracy: 0.8291 - val_loss: 0.4864 - val_accuracy: 0.8352\n",
            "Epoch 9/10\n",
            "55000/55000 [==============================] - 7s 131us/sample - loss: 0.4864 - accuracy: 0.8318 - val_loss: 0.4785 - val_accuracy: 0.8374\n",
            "Epoch 10/10\n",
            "55000/55000 [==============================] - 7s 130us/sample - loss: 0.4769 - accuracy: 0.8356 - val_loss: 0.4666 - val_accuracy: 0.8434\n"
          ],
          "name": "stdout"
        }
      ]
    },
    {
      "cell_type": "code",
      "metadata": {
        "id": "w07tjygZt7nH",
        "colab_type": "code",
        "colab": {
          "base_uri": "https://localhost:8080/",
          "height": 302
        },
        "outputId": "103e0046-4ce5-408b-b571-a3e71f0902b1"
      },
      "source": [
        "# Plotting the training and validation loss\n",
        "loss = history_2.history['loss']\n",
        "val_loss = history_2.history['val_loss']\n",
        "\n",
        "epochs = range(1, len(loss) + 1)\n",
        "\n",
        "plt.plot(epochs, loss, 'bo-', label='Training loss')\n",
        "plt.plot(epochs, val_loss, 'b--', label='Validation loss')\n",
        "plt.title('Training and validation loss on PReLU')\n",
        "plt.xlabel('Epochs')\n",
        "plt.ylabel('Loss')\n",
        "plt.legend()\n",
        "\n",
        "plt.show()"
      ],
      "execution_count": 31,
      "outputs": [
        {
          "output_type": "display_data",
          "data": {
            "image/png": "[encoded data removed]",
            "text/plain": [
              "<Figure size 432x288 with 1 Axes>"
            ]
          },
          "metadata": {
            "tags": []
          }
        }
      ]
    },
    {
      "cell_type": "markdown",
      "metadata": {
        "id": "b80ndqaYwtk7",
        "colab_type": "text"
      },
      "source": [
        "#### SELU"
      ]
    },
    {
      "cell_type": "markdown",
      "metadata": {
        "id": "pNYxT_S5wuw2",
        "colab_type": "text"
      },
      "source": [
        "Günter Klambauer et al. introduced the Scaled ELU (SELU) activation function: as its name suggests, it is a scaled variant of the ELU activation function.\n",
        "\n",
        "If you build a neural network composed exclusively of a stack of dense layers, and if all hidden layers use the SELU activation function, then the network will self-normalize : the output of each layer will tend to preserve a mean of 0 and standard deviation of 1 during training, which solves the vanishing/exploding gradients problem. \n",
        "\n",
        "As a result, the SELU activation function often significantly outperforms other activation functions for such neural nets (especially deep ones). There are, however, a few conditions for self-normalization to happen (see the paper for the mathematical justification):\n",
        "\n",
        "* The input features must be standardized (mean 0 and standard deviation 1).\n",
        "* Every hidden layer’s weights must be initialized with LeCun normal initialization. In Keras, this means setting kernel_initializer=\"lecun_normal\" .\n",
        "* The network’s architecture must be sequential. Unfortunately, if you try to use SELU in nonsequential architectures, such as recurrent networks or networks with skip connections (i.e., connections that skip layers, such as in Wide & Deep nets), self-normalization will not be guaranteed, so SELU will not necessarily outperform other activation functions.\n",
        "* The paper only guarantees self-normalization if all layers are dense, but some researchers have noted that the SELU activation function can improve performance in convolutional neural nets as well.\n",
        "\n"
      ]
    },
    {
      "cell_type": "code",
      "metadata": {
        "id": "0eLk0AKBwltg",
        "colab_type": "code",
        "colab": {}
      },
      "source": [
        "from scipy.special import erfc\n",
        "\n",
        "# alpha and scale to self normalize with mean 0 and standard deviation 1\n",
        "alpha_0_1 = -np.sqrt(2 / np.pi) / (erfc(1/np.sqrt(2)) * np.exp(1/2) - 1)\n",
        "scale_0_1 = (1 - erfc(1 / np.sqrt(2)) * np.sqrt(np.e)) * np.sqrt(2 * np.pi) * (2 * erfc(np.sqrt(2))*np.e**2 \n",
        "+ np.pi*erfc(1/np.sqrt(2))**2*np.e - 2*(2+np.pi)*erfc(1/np.sqrt(2))*np.sqrt(np.e)+np.pi+2)**(-1/2)"
      ],
      "execution_count": 0,
      "outputs": []
    },
    {
      "cell_type": "code",
      "metadata": {
        "id": "V22xSkbDFkPP",
        "colab_type": "code",
        "colab": {}
      },
      "source": [
        "def selu(z, scale=scale_0_1, alpha=alpha_0_1):\n",
        "  return scale * elu(z, alpha)"
      ],
      "execution_count": 0,
      "outputs": []
    },
    {
      "cell_type": "code",
      "metadata": {
        "id": "Kk5B_ZNiF1C2",
        "colab_type": "code",
        "colab": {
          "base_uri": "https://localhost:8080/",
          "height": 285
        },
        "outputId": "e397ae61-bc7f-4ce2-f875-187be896e07f"
      },
      "source": [
        "plt.plot(z, selu(z), \"b-\", linewidth=2)\n",
        "plt.plot([-5, 5], [0, 0], 'k-')\n",
        "plt.plot([-5, 5], [-1.758, -1.758], 'g--')\n",
        "plt.plot([0, 0], [-2.2, 3.2], 'k-')\n",
        "plt.grid(True)\n",
        "plt.title(\"SELU activation function\", fontsize=14)\n",
        "plt.axis([-5, 5, -2.2, 3.2])\n",
        "\n",
        "plt.show()"
      ],
      "execution_count": 34,
      "outputs": [
        {
          "output_type": "display_data",
          "data": {
            "image/png": "[encoded data removed]",
            "text/plain": [
              "<Figure size 432x288 with 1 Axes>"
            ]
          },
          "metadata": {
            "tags": []
          }
        }
      ]
    },
    {
      "cell_type": "markdown",
      "metadata": {
        "id": "K986VdlHGMz0",
        "colab_type": "text"
      },
      "source": [
        "By default, the SELU hyperparameters (scale and alpha) are tuned in such a way that the mean output of each neuron remains close to 0, and the standard deviation remains close to 1 (assuming the inputs are standardized with mean 0 and standard deviation 1 too). Using this activation function, even a 1,000 layer deep neural network preserves roughly mean 0 and standard deviation 1 across all layers, avoiding the exploding/vanishing gradients problem:"
      ]
    },
    {
      "cell_type": "code",
      "metadata": {
        "id": "MOsXF2UiF7xw",
        "colab_type": "code",
        "colab": {
          "base_uri": "https://localhost:8080/",
          "height": 195
        },
        "outputId": "36db1d51-c45b-449d-e554-7e002fe1f178"
      },
      "source": [
        "np.random.seed(42)\n",
        "\n",
        "Z = np.random.normal(size=(500, 100)) # standardized inputs\n",
        "for layer in range(1000):\n",
        "  W = np.random.normal(size=(100, 100), scale=np.sqrt(1 / 100))   # LeCun initialization\n",
        "  Z = selu(np.dot(Z, W))\n",
        "  means = np.mean(Z, axis=0).mean()\n",
        "  stds = np.std(Z, axis=0).mean()\n",
        "  if layer % 100 == 0:\n",
        "    print(f'Layer {str(layer)}: mean {str(means)}, std deviation {str(stds)}')"
      ],
      "execution_count": 37,
      "outputs": [
        {
          "output_type": "stream",
          "text": [
            "Layer 0: mean -0.0018323191229082008, std deviation 0.9993326848140984\n",
            "Layer 100: mean 0.022381401728658233, std deviation 0.9624307594850076\n",
            "Layer 200: mean 0.009595136169400253, std deviation 0.9044881262732791\n",
            "Layer 300: mean -0.01519457019455962, std deviation 0.9236924543338303\n",
            "Layer 400: mean 0.05413433801497661, std deviation 0.891602836975457\n",
            "Layer 500: mean 0.005853113037170003, std deviation 0.9286462935545744\n",
            "Layer 600: mean 0.022268621656531477, std deviation 0.9166416317851165\n",
            "Layer 700: mean -0.01825918849256755, std deviation 0.9033546354839294\n",
            "Layer 800: mean 0.05381074844549197, std deviation 0.8250118130851406\n",
            "Layer 900: mean 0.019907971909592856, std deviation 0.9955889510480945\n"
          ],
          "name": "stdout"
        }
      ]
    },
    {
      "cell_type": "markdown",
      "metadata": {
        "id": "JZICuN1sHhAH",
        "colab_type": "text"
      },
      "source": [
        "Let's create a neural net for Fashion MNIST with 100 hidden layers, using the SELU activation function:"
      ]
    },
    {
      "cell_type": "code",
      "metadata": {
        "id": "5_rWWO_2HIYP",
        "colab_type": "code",
        "colab": {}
      },
      "source": [
        "np.random.seed(42)\n",
        "tf.random.set_seed(42)\n",
        "\n",
        "model_3 = keras.Sequential()\n",
        "model_3.add(keras.layers.Flatten(input_shape=[28, 28]))\n",
        "model_3.add(keras.layers.Dense(300, activation='selu', kernel_initializer='lecun_normal'))\n",
        "\n",
        "for layer in range(99):\n",
        "  model_3.add(keras.layers.Dense(100, activation='selu', kernel_initializer='lecun_normal'))\n",
        "model_3.add(keras.layers.Dense(10, activation='softmax'))\n",
        "\n",
        "model_3.compile(loss='sparse_categorical_crossentropy', optimizer=keras.optimizers.SGD(learning_rate=1e-3), metrics=['accuracy'])"
      ],
      "execution_count": 0,
      "outputs": []
    },
    {
      "cell_type": "markdown",
      "metadata": {
        "id": "Umi8nIOYKNiD",
        "colab_type": "text"
      },
      "source": [
        "Now let's train it. Do not forget to scale the inputs to mean 0 and standard deviation 1:"
      ]
    },
    {
      "cell_type": "code",
      "metadata": {
        "id": "2vNISZmfKN4j",
        "colab_type": "code",
        "colab": {
          "base_uri": "https://localhost:8080/",
          "height": 212
        },
        "outputId": "b77568de-e70b-48c0-b7f7-81a50a5be819"
      },
      "source": [
        "pixel_means = X_train.mean(axis=0, keepdims=True)\n",
        "pixel_stds = X_train.std(axis=0, keepdims=True)\n",
        "X_train_scaled = (X_train - pixel_means) / pixel_stds\n",
        "X_valid_scaled = (X_valid - pixel_means) / pixel_stds\n",
        "X_test_scaled = (X_test - pixel_means) / pixel_stds\n",
        "\n",
        "history_3 = model_3.fit(X_train_scaled, y_train, epochs=5, validation_data=(X_valid_scaled, y_valid))"
      ],
      "execution_count": 40,
      "outputs": [
        {
          "output_type": "stream",
          "text": [
            "Train on 55000 samples, validate on 5000 samples\n",
            "Epoch 1/5\n",
            "55000/55000 [==============================] - 61s 1ms/sample - loss: 1.0594 - accuracy: 0.5887 - val_loss: 0.7304 - val_accuracy: 0.7420\n",
            "Epoch 2/5\n",
            "55000/55000 [==============================] - 51s 920us/sample - loss: 0.6942 - accuracy: 0.7493 - val_loss: 0.6293 - val_accuracy: 0.7698\n",
            "Epoch 3/5\n",
            "55000/55000 [==============================] - 52s 951us/sample - loss: 0.5916 - accuracy: 0.7864 - val_loss: 0.6182 - val_accuracy: 0.7938\n",
            "Epoch 4/5\n",
            "55000/55000 [==============================] - 52s 951us/sample - loss: 0.5829 - accuracy: 0.7936 - val_loss: 0.5710 - val_accuracy: 0.8074\n",
            "Epoch 5/5\n",
            "55000/55000 [==============================] - 54s 974us/sample - loss: 0.5826 - accuracy: 0.7885 - val_loss: 0.5712 - val_accuracy: 0.7996\n"
          ],
          "name": "stdout"
        }
      ]
    },
    {
      "cell_type": "code",
      "metadata": {
        "id": "wanVWh79Hw6L",
        "colab_type": "code",
        "colab": {
          "base_uri": "https://localhost:8080/",
          "height": 302
        },
        "outputId": "5b3a8b7c-db56-48fe-8316-f9d872cad45a"
      },
      "source": [
        "# Plotting the training and validation loss\n",
        "loss = history_3.history['loss']\n",
        "val_loss = history_3.history['val_loss']\n",
        "\n",
        "epochs = range(1, len(loss) + 1)\n",
        "\n",
        "plt.plot(epochs, loss, 'bo-', label='Training loss')\n",
        "plt.plot(epochs, val_loss, 'b--', label='Validation loss')\n",
        "plt.title('Training and validation loss on SELU')\n",
        "plt.xlabel('Epochs')\n",
        "plt.ylabel('Loss')\n",
        "plt.legend()\n",
        "\n",
        "plt.show()"
      ],
      "execution_count": 41,
      "outputs": [
        {
          "output_type": "display_data",
          "data": {
            "image/png": "[encoded data removed]",
            "text/plain": [
              "<Figure size 432x288 with 1 Axes>"
            ]
          },
          "metadata": {
            "tags": []
          }
        }
      ]
    },
    {
      "cell_type": "markdown",
      "metadata": {
        "id": "YqpbqmpMLdGK",
        "colab_type": "text"
      },
      "source": [
        "Now look at what happens if we try to use the ReLU activation function instead:"
      ]
    },
    {
      "cell_type": "code",
      "metadata": {
        "id": "6axjggf5Ldmr",
        "colab_type": "code",
        "colab": {
          "base_uri": "https://localhost:8080/",
          "height": 212
        },
        "outputId": "0a19c259-c1e1-4353-b934-f61b33e0051a"
      },
      "source": [
        "np.random.seed(42)\n",
        "tf.random.set_seed(42)\n",
        "\n",
        "model_4 = keras.Sequential()\n",
        "model_4.add(keras.layers.Flatten(input_shape=[28, 28]))\n",
        "model_4.add(keras.layers.Dense(300, activation='relu', kernel_initializer='he_normal'))\n",
        "\n",
        "for layer in range(99):\n",
        "  model_4.add(keras.layers.Dense(100, activation='relu', kernel_initializer='he_normal'))\n",
        "model_4.add(keras.layers.Dense(10, activation='softmax'))\n",
        "\n",
        "model_4.compile(loss='sparse_categorical_crossentropy', optimizer=keras.optimizers.SGD(learning_rate=1e-3), metrics=['accuracy'])\n",
        "history_4 = model_4.fit(X_train_scaled, y_train, epochs=5, validation_data=(X_valid_scaled, y_valid))"
      ],
      "execution_count": 42,
      "outputs": [
        {
          "output_type": "stream",
          "text": [
            "Train on 55000 samples, validate on 5000 samples\n",
            "Epoch 1/5\n",
            "55000/55000 [==============================] - 39s 702us/sample - loss: 1.7524 - accuracy: 0.2946 - val_loss: 1.1445 - val_accuracy: 0.5586\n",
            "Epoch 2/5\n",
            "55000/55000 [==============================] - 34s 620us/sample - loss: 1.0957 - accuracy: 0.5587 - val_loss: 0.9780 - val_accuracy: 0.5942\n",
            "Epoch 3/5\n",
            "55000/55000 [==============================] - 34s 614us/sample - loss: 1.0329 - accuracy: 0.5788 - val_loss: 0.8444 - val_accuracy: 0.6646\n",
            "Epoch 4/5\n",
            "55000/55000 [==============================] - 34s 611us/sample - loss: 0.8915 - accuracy: 0.6484 - val_loss: 0.8008 - val_accuracy: 0.6740\n",
            "Epoch 5/5\n",
            "55000/55000 [==============================] - 34s 611us/sample - loss: 0.7790 - accuracy: 0.7103 - val_loss: 0.7376 - val_accuracy: 0.7236\n"
          ],
          "name": "stdout"
        }
      ]
    },
    {
      "cell_type": "code",
      "metadata": {
        "id": "wmt4hXfXMfvX",
        "colab_type": "code",
        "colab": {
          "base_uri": "https://localhost:8080/",
          "height": 302
        },
        "outputId": "3116361b-badc-4213-cff4-eb16cee12e2d"
      },
      "source": [
        "# Plotting the training and validation loss\n",
        "loss = history_4.history['loss']\n",
        "val_loss = history_4.history['val_loss']\n",
        "\n",
        "epochs = range(1, len(loss) + 1)\n",
        "\n",
        "plt.plot(epochs, loss, 'bo-', label='Training loss')\n",
        "plt.plot(epochs, val_loss, 'b--', label='Validation loss')\n",
        "plt.title('Training and validation loss on SELU')\n",
        "plt.xlabel('Epochs')\n",
        "plt.ylabel('Loss')\n",
        "plt.legend()\n",
        "\n",
        "plt.show()"
      ],
      "execution_count": 43,
      "outputs": [
        {
          "output_type": "display_data",
          "data": {
            "image/png": "[encoded data removed]",
            "text/plain": [
              "<Figure size 432x288 with 1 Axes>"
            ]
          },
          "metadata": {
            "tags": []
          }
        }
      ]
    },
    {
      "cell_type": "markdown",
      "metadata": {
        "id": "uyxO2NWGMujp",
        "colab_type": "text"
      },
      "source": [
        "Not great at all, we suffered from the vanishing/exploding gradients problem."
      ]
    },
    {
      "cell_type": "markdown",
      "metadata": {
        "id": "PgRVuJh7MvcA",
        "colab_type": "text"
      },
      "source": [
        "## Batch Normalization"
      ]
    },
    {
      "cell_type": "markdown",
      "metadata": {
        "id": "NfD3TeUlMx88",
        "colab_type": "text"
      },
      "source": [
        ""
      ]
    }
  ]
}