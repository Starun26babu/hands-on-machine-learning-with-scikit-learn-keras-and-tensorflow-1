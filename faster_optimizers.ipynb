{
  "nbformat": 4,
  "nbformat_minor": 0,
  "metadata": {
    "colab": {
      "name": "faster-optimizers.ipynb",
      "provenance": [],
      "toc_visible": true,
      "include_colab_link": true
    },
    "kernelspec": {
      "name": "python3",
      "display_name": "Python 3"
    }
  },
  "cells": [
    {
      "cell_type": "markdown",
      "metadata": {
        "id": "view-in-github",
        "colab_type": "text"
      },
      "source": [
        "<a href=\"https://colab.research.google.com/github/rahiakela/hands-on-machine-learning-with-scikit-learn-keras-and-tensorflow/blob/11-training-deep-neural-networks/faster_optimizers.ipynb\" target=\"_parent\"><img src=\"https://colab.research.google.com/assets/colab-badge.svg\" alt=\"Open In Colab\"/></a>"
      ]
    },
    {
      "cell_type": "markdown",
      "metadata": {
        "id": "6Ko31BpKKyDt",
        "colab_type": "text"
      },
      "source": [
        "# Faster Optimizers"
      ]
    },
    {
      "cell_type": "markdown",
      "metadata": {
        "id": "NxEbaqdMKy_1",
        "colab_type": "text"
      },
      "source": [
        "Training a very large deep neural network can be painfully slow. So far we have seen four ways to speed up training (and reach a better solution): \n",
        "\n",
        "* applying a good initialization strategy for the connection weights, \n",
        "* using a good activation function, \n",
        "* using Batch Normalization, \n",
        "* and reusing parts of a pretrained network\n",
        "\n",
        "Another huge speed boost comes from using a faster optimizer than the regular Gradient Descent optimizer. Lets analyze these most popular ones: \n",
        "* Momentum optimization, \n",
        "* Nesterov Accelerated Gradient, \n",
        "* AdaGrad, \n",
        "* RMSProp, \n",
        "* and finally Adam and Nadam optimization."
      ]
    },
    {
      "cell_type": "markdown",
      "metadata": {
        "id": "TdI92unKWoyB",
        "colab_type": "text"
      },
      "source": [
        "## Setup"
      ]
    },
    {
      "cell_type": "code",
      "metadata": {
        "id": "aM46ucBbWraU",
        "colab_type": "code",
        "outputId": "9469d0b6-ac40-4dfb-c183-c82946db3f99",
        "colab": {
          "base_uri": "https://localhost:8080/",
          "height": 35
        }
      },
      "source": [
        "import sys\n",
        "assert sys.version_info >= (3, 5)  # Python ≥3.5 is required\n",
        "\n",
        "import sklearn \n",
        "assert sklearn.__version__ >= \"0.20\"  # Scikit-Learn ≥0.20 is required\n",
        "\n",
        "# %tensorflow_version only exists in Colab.\n",
        "try:\n",
        "  %tensorflow_version 2.x\n",
        "except Exception:\n",
        "  pass\n",
        "\n",
        "# TensorFlow ≥2.0 is required\n",
        "import tensorflow as tf\n",
        "from tensorflow import keras\n",
        "assert tf.__version__ >= '2.0'\n",
        "\n",
        "# Common imports\n",
        "import numpy as np\n",
        "import os\n",
        "\n",
        "from tensorflow.keras.models import Sequential\n",
        "from tensorflow.keras.layers import Dense, Flatten\n",
        "from tensorflow.keras.optimizers import SGD\n",
        "import tensorflow.keras.backend as keras_backend\n",
        "\n",
        "# to make this notebook's output stable across runs\n",
        "np.random.seed(42)\n",
        "\n",
        "# To plot pretty figures\n",
        "%matplotlib inline\n",
        "import matplotlib as mpl\n",
        "import matplotlib.pyplot as plt\n",
        "mpl.rc('axes', labelsize=14)\n",
        "mpl.rc('xtick', labelsize=12)\n",
        "mpl.rc('ytick', labelsize=12)"
      ],
      "execution_count": 1,
      "outputs": [
        {
          "output_type": "stream",
          "text": [
            "TensorFlow 2.x selected.\n"
          ],
          "name": "stdout"
        }
      ]
    },
    {
      "cell_type": "code",
      "metadata": {
        "id": "zMLGgnfZW2TG",
        "colab_type": "code",
        "outputId": "c5375ca6-7dd7-4292-91d0-870b72ab8e6e",
        "colab": {
          "base_uri": "https://localhost:8080/",
          "height": 159
        }
      },
      "source": [
        "(X_train_full, y_train_full), (X_test, y_test) = keras.datasets.fashion_mnist.load_data()\n",
        "\n",
        "X_train_full = X_train_full / 255.\n",
        "X_test = X_test / 255.\n",
        "\n",
        "X_valid, X_train = X_train_full[:5000], X_train_full[5000:]\n",
        "y_valid, y_train = y_train_full[:5000], y_train_full[5000:]"
      ],
      "execution_count": 2,
      "outputs": [
        {
          "output_type": "stream",
          "text": [
            "Downloading data from https://storage.googleapis.com/tensorflow/tf-keras-datasets/train-labels-idx1-ubyte.gz\n",
            "32768/29515 [=================================] - 0s 0us/step\n",
            "Downloading data from https://storage.googleapis.com/tensorflow/tf-keras-datasets/train-images-idx3-ubyte.gz\n",
            "26427392/26421880 [==============================] - 0s 0us/step\n",
            "Downloading data from https://storage.googleapis.com/tensorflow/tf-keras-datasets/t10k-labels-idx1-ubyte.gz\n",
            "8192/5148 [===============================================] - 0s 0us/step\n",
            "Downloading data from https://storage.googleapis.com/tensorflow/tf-keras-datasets/t10k-images-idx3-ubyte.gz\n",
            "4423680/4422102 [==============================] - 0s 0us/step\n"
          ],
          "name": "stdout"
        }
      ]
    },
    {
      "cell_type": "markdown",
      "metadata": {
        "id": "zoLwH7d5U2tr",
        "colab_type": "text"
      },
      "source": [
        "## Momentum optimization"
      ]
    },
    {
      "cell_type": "markdown",
      "metadata": {
        "id": "FZeu4RnEUxLm",
        "colab_type": "text"
      },
      "source": [
        "Recall that Gradient Descent simply updates the weights θ by directly subtracting the gradient of the cost function J(θ) with regards to the weights (∇θJ(θ)) multiplied by the learning rate η.\n",
        "\n",
        "<img src='https://github.com/rahiakela/img-repo/blob/master/hands-on-machine-learning-keras-tensorflow/gradient.PNG?raw=1' width='800'/>\n",
        "\n",
        "It does not care about what the earlier gradients were. If the local gradient is tiny, it goes very slowly.\n",
        "\n",
        "Momentum optimization cares a great deal about what previous gradients were: at\n",
        "each iteration, it subtracts the local gradient from the momentum vector m (multiplied by the learning rate η), and it updates the weights by simply adding this momentum vector.\n",
        "\n",
        "<img src='https://github.com/rahiakela/img-repo/blob/master/hands-on-machine-learning-keras-tensorflow/momentum-algo.PNG?raw=1' width='800'/>\n",
        "\n",
        "In other words, the gradient is used for acceleration,\n",
        "not for speed. To simulate some sort of friction mechanism and prevent the\n",
        "momentum from growing too large, the algorithm introduces a new hyperparameter\n",
        "β, simply called the momentum, which must be set between 0 (high friction) and 1\n",
        "(no friction). A typical momentum value is 0.9.\n",
        "\n",
        "Implementing Momentum optimization in Keras is a no-brainer: just use the SGD\n",
        "optimizer and set its momentum hyperparameter, then lie back and profit!\n",
        "\n",
        "```python\n",
        "optimizer = keras.optimizers.SGD(lr=0.001, momentum=0.9)\n",
        "```\n",
        "\n",
        "The one drawback of Momentum optimization is that it adds yet another hyperparameter to tune. However, the momentum value of 0.9 usually works well in practice and almost always goes faster than regular Gradient Descent."
      ]
    },
    {
      "cell_type": "markdown",
      "metadata": {
        "id": "JAP80sAfWiUJ",
        "colab_type": "text"
      },
      "source": [
        "## Nesterov Accelerated Gradient"
      ]
    },
    {
      "cell_type": "markdown",
      "metadata": {
        "id": "CFTrEPRHWjVg",
        "colab_type": "text"
      },
      "source": [
        "One small variant to Momentum optimization is almost always faster than vanilla Momentum optimization. The idea of Nesterov Momentum optimization, or Nesterov Accelerated Gradient (NAG), is to measure the gradient of the cost function not at the local position but slightly ahead in the direction of the momentum.\n",
        "\n",
        "<img src='https://github.com/rahiakela/img-repo/blob/master/hands-on-machine-learning-keras-tensorflow/nesterov-algo.PNG?raw=1' width='800'/>\n",
        "\n",
        "NAG will almost always speed up training compared to regular Momentum optimization. To use it, simply set nesterov=True when creating the SGD optimizer.\n",
        "\n",
        "```python\n",
        "optimizer = keras.optimizers.SGD(lr=0.001, momentum=0.9, nesterov=True)\n",
        "```\n",
        "This small tweak works because in general the momentum vector will be pointing in the right direction (i.e., toward the optimum), so it will be slightly more accurate to use the gradient measured a bit farther in that direction rather than using the gradient at the original position.\n",
        "\n",
        "<img src='https://github.com/rahiakela/img-repo/blob/master/hands-on-machine-learning-keras-tensorflow/nesterov-momentum-optimization.PNG?raw=1' width='800'/>"
      ]
    },
    {
      "cell_type": "markdown",
      "metadata": {
        "id": "1VM3RYo4c10K",
        "colab_type": "text"
      },
      "source": [
        "## AdaGrad"
      ]
    },
    {
      "cell_type": "markdown",
      "metadata": {
        "id": "oie1CEFpc2xN",
        "colab_type": "text"
      },
      "source": [
        "The AdaGrad algorithm achieves this by scaling down the gradient vector along the steepest dimensions.\n",
        "\n",
        "<img src='https://github.com/rahiakela/img-repo/blob/master/hands-on-machine-learning-keras-tensorflow/adagrad-algo.PNG?raw=1' width='800'/>\n",
        "\n",
        "* The first step accumulates the square of the gradients into the vector s (recall that the ⊗ symbol represents the element-wise multiplication).If the cost function is steep along the ith dimension, then si will get larger and larger at each iteration.\n",
        "* The second step is almost identical to Gradient Descent, but with one big difference: the gradient vector is scaled down by a factor of square root of s + epsilon(the ⊘ symbol represents the element-wise division, and ϵ is a smoothing term to avoid division by zero, typically set to 10–10).\n",
        "\n",
        "This algorithm decays the learning rate, but it does so faster for steep dimensions than for dimensions with gentler slopes. This is called an adaptive learning rate. It helps point the resulting updates more directly toward the global optimum.One additional benefit is that it requires much less tuning of the learning rate hyperparameter η.\n",
        "\n",
        "<img src='https://github.com/rahiakela/img-repo/blob/master/hands-on-machine-learning-keras-tensorflow/adagrad-versus-gradient-descent.PNG?raw=1' width='800'/>\n",
        "\n",
        "AdaGrad often performs well for simple quadratic problems, but unfortunately it\n",
        "often stops too early when training neural networks. The learning rate gets scaled\n",
        "down so much that the algorithm ends up stopping entirely before reaching the\n",
        "global optimum. So even though Keras has an Adagrad optimizer, you should not use\n",
        "it to train deep neural networks (it may be efficient for simpler tasks such as Linear\n",
        "Regression, though). However, understanding Adagrad is helpful to grasp the other\n",
        "adaptive learning rate optimizers.\n",
        "\n",
        "```python\n",
        "optimizer = keras.optimizers.Adagrad(lr=0.001)\n",
        "```"
      ]
    },
    {
      "cell_type": "markdown",
      "metadata": {
        "id": "F5VXLlPNedbE",
        "colab_type": "text"
      },
      "source": [
        "## RMSProp"
      ]
    },
    {
      "cell_type": "markdown",
      "metadata": {
        "id": "oMOibg79e4WP",
        "colab_type": "text"
      },
      "source": [
        "Although AdaGrad slows down a bit too fast and ends up never converging to the\n",
        "global optimum, the RMSProp algorithm15 fixes this by accumulating only the gradients from the most recent iterations (as opposed to all the gradients since the beginning of training). It does so by using exponential decay in the first step.\n",
        "\n",
        "<img src='https://github.com/rahiakela/img-repo/blob/master/hands-on-machine-learning-keras-tensorflow/rmsprop-algo.PNG?raw=1' width='800'/>\n",
        "\n",
        "The decay rate β is typically set to 0.9. Yes, it is once again a new hyperparameter, but\n",
        "this default value often works well, so you may not need to tune it at all.\n",
        "\n",
        "```python\n",
        "optimizer = keras.optimizers.RMSprop(lr=0.001, rho=0.9)\n",
        "```\n",
        "\n",
        "Except on very simple problems, this optimizer almost always performs much better than AdaGrad. In fact, it was the preferred optimization algorithm of many researchers until Adam optimization came around."
      ]
    },
    {
      "cell_type": "markdown",
      "metadata": {
        "id": "h-wePqoVhlW3",
        "colab_type": "text"
      },
      "source": [
        "## Adam and Nadam Optimization"
      ]
    },
    {
      "cell_type": "markdown",
      "metadata": {
        "id": "_kIOg6byhmmS",
        "colab_type": "text"
      },
      "source": [
        "Adam, which stands for adaptive moment estimation, combines the ideas of Momentum optimization and RMSProp: just like Momentum optimization it keeps track of an exponentially decaying average of past gradients, and just like RMSProp it keeps track of an exponentially decaying average of past squared gradients.\n",
        "\n",
        "<img src='https://github.com/rahiakela/img-repo/blob/master/hands-on-machine-learning-keras-tensorflow/adam-algo.PNG?raw=1' width='800'/>\n",
        "\n",
        "If you just look at steps 1, 2, and 5, you will notice Adam’s close similarity to both Momentum optimization and RMSProp. The only difference is that step 1 computes an exponentially decaying average rather than an exponentially decaying sum, but these are actually equivalent except for a constant factor (the decaying average is just 1 – β1 times the decaying sum).\n",
        "\n",
        "The momentum decay hyperparameter β1 is typically initialized to 0.9, while the scaling decay hyperparameter β2 is often initialized to 0.999. As earlier, the smoothing term ϵ is usually initialized to a tiny number such as 10–7.\n",
        "\n",
        "```python\n",
        "optimizer = keras.optimizers.Adam(lr=0.001, beta_1=0.9, beta_2=0.999)\n",
        "```\n",
        "\n",
        "Since Adam is an adaptive learning rate algorithm (like AdaGrad and RMSProp), it\n",
        "requires less tuning of the learning rate hyperparameter η. You can often use the default value η = 0.001, making Adam even easier to use than Gradient Descent.\n",
        "\n",
        "All the optimization techniques discussed so far only rely on the first-order partial derivatives (Jacobians). The optimization literature contains amazing algorithms based on the second-order partial derivatives (the Hessians, which are the partial derivatives of the Jacobians). Unfortunately, these algorithms are very hard to apply to deep neural networks because there are n2 Hessians per output (where n is the number of parameters), as opposed to just n Jacobians per output. \n",
        "\n",
        "Since DNNs typically have tens of thousands of parameters, the second-order optimization algorithms often don’t even fit in memory, and even when they do, computing the Hessians is just too slow.\n",
        "\n",
        "\n",
        "\n"
      ]
    },
    {
      "cell_type": "markdown",
      "metadata": {
        "id": "v4mjbdCglyIb",
        "colab_type": "text"
      },
      "source": [
        "## Learning Rate Scheduling"
      ]
    },
    {
      "cell_type": "markdown",
      "metadata": {
        "id": "DKsJjBiglzOY",
        "colab_type": "text"
      },
      "source": [
        "Finding a good learning rate can be tricky. If you set it way too high, training may actually diverge.If you set it too low, training will\n",
        "eventually converge to the optimum, but it will take a very long time. If you set it slightly too high, it will make progress very quickly at first, but it will end up dancing around the optimum, never really settling down. If you have a limited computing budget, you may have to interrupt training before it has converged properly, yielding a suboptimal solution.\n",
        "\n",
        "<img src='https://github.com/rahiakela/img-repo/blob/master/hands-on-machine-learning-keras-tensorflow/learning-curves.PNG?raw=1' width='800'/>\n",
        "\n",
        "However, you can do better than a constant learning rate: if you start with a high learning rate and then reduce it once it stops making fast progress, you can reach a good solution faster than with the optimal constant learning rate. There are many different strategies to reduce the learning rate during training. These strategies are called learning schedules, the most common\n",
        "of which are:\n",
        "\n",
        "* Power scheduling\n",
        "* Exponential scheduling\n",
        "* Piecewise constant scheduling\n",
        "* Performance scheduling\n",
        "\n"
      ]
    },
    {
      "cell_type": "markdown",
      "metadata": {
        "id": "WHiH0L5h9rsZ",
        "colab_type": "text"
      },
      "source": [
        "### Power Scheduling"
      ]
    },
    {
      "cell_type": "markdown",
      "metadata": {
        "id": "OM2nBg099s9m",
        "colab_type": "text"
      },
      "source": [
        "Set the learning rate to a function of the iteration number t: η(t) = η0 / (1 + t/k)c. The initial learning rate η0, the power c (typically set to 1) and the steps s are hyperparameters. The learning rate drops at each step, and after s steps it is down to η0 / 2. After s more steps, it is down to η0 / 3. Then down to η0 / 4, then η0 / 5, and so on. As you can see, this schedule first drops quickly, then more and more slowly. Of course, this requires tuning η0, s (and possibly c)."
      ]
    },
    {
      "cell_type": "code",
      "metadata": {
        "id": "vRP7w5dy-CL2",
        "colab_type": "code",
        "colab": {}
      },
      "source": [
        "# Now let's train it. Do not forget to scale the inputs to mean 0 and standard deviation 1\n",
        "pixel_means = X_train.mean(axis=0, keepdims=True)\n",
        "pixel_stds = X_train.std(axis=0, keepdims=True)\n",
        "X_train_scaled = (X_train - pixel_means) / pixel_stds\n",
        "X_valid_scaled = (X_valid - pixel_means) / pixel_stds\n",
        "X_test_scaled = (X_test - pixel_means) / pixel_stds\n",
        "\n",
        "model = Sequential([\n",
        "    Flatten(input_shape=[28, 28]),\n",
        "    Dense(300, activation='selu', kernel_initializer='lecun_normal'),\n",
        "    Dense(100, activation='selu', kernel_initializer='lecun_normal'), \n",
        "    Dense(10, activation='softmax'),             \n",
        "])\n",
        "\n",
        "model.compile(loss='sparse_categorical_crossentropy', optimizer=SGD(learning_rate=0.01, decay=1e-4), metrics=['accuracy'])"
      ],
      "execution_count": 0,
      "outputs": []
    },
    {
      "cell_type": "code",
      "metadata": {
        "id": "onQ0sJC0_EGQ",
        "colab_type": "code",
        "colab": {
          "base_uri": "https://localhost:8080/",
          "height": 924
        },
        "outputId": "440a657b-7453-4847-d28b-0dd7e227f673"
      },
      "source": [
        "history = model.fit(X_train_scaled, y_train, epochs=25, validation_data=(X_valid_scaled, y_valid))"
      ],
      "execution_count": 16,
      "outputs": [
        {
          "output_type": "stream",
          "text": [
            "Train on 55000 samples, validate on 5000 samples\n",
            "Epoch 1/25\n",
            "55000/55000 [==============================] - 6s 108us/sample - loss: 0.2378 - accuracy: 0.9175 - val_loss: 0.3288 - val_accuracy: 0.8866\n",
            "Epoch 2/25\n",
            "55000/55000 [==============================] - 6s 111us/sample - loss: 0.2377 - accuracy: 0.9174 - val_loss: 0.3288 - val_accuracy: 0.8870\n",
            "Epoch 3/25\n",
            "55000/55000 [==============================] - 6s 108us/sample - loss: 0.2376 - accuracy: 0.9174 - val_loss: 0.3287 - val_accuracy: 0.8870\n",
            "Epoch 4/25\n",
            "55000/55000 [==============================] - 6s 110us/sample - loss: 0.2375 - accuracy: 0.9175 - val_loss: 0.3287 - val_accuracy: 0.8868\n",
            "Epoch 5/25\n",
            "55000/55000 [==============================] - 6s 109us/sample - loss: 0.2374 - accuracy: 0.9175 - val_loss: 0.3288 - val_accuracy: 0.8876\n",
            "Epoch 6/25\n",
            "55000/55000 [==============================] - 6s 110us/sample - loss: 0.2373 - accuracy: 0.9175 - val_loss: 0.3287 - val_accuracy: 0.8870\n",
            "Epoch 7/25\n",
            "55000/55000 [==============================] - 6s 110us/sample - loss: 0.2372 - accuracy: 0.9174 - val_loss: 0.3287 - val_accuracy: 0.8870\n",
            "Epoch 8/25\n",
            "55000/55000 [==============================] - 6s 111us/sample - loss: 0.2371 - accuracy: 0.9176 - val_loss: 0.3287 - val_accuracy: 0.8870\n",
            "Epoch 9/25\n",
            "55000/55000 [==============================] - 6s 109us/sample - loss: 0.2370 - accuracy: 0.9175 - val_loss: 0.3286 - val_accuracy: 0.8874\n",
            "Epoch 10/25\n",
            "55000/55000 [==============================] - 6s 107us/sample - loss: 0.2369 - accuracy: 0.9175 - val_loss: 0.3286 - val_accuracy: 0.8872\n",
            "Epoch 11/25\n",
            "55000/55000 [==============================] - 6s 109us/sample - loss: 0.2368 - accuracy: 0.9176 - val_loss: 0.3286 - val_accuracy: 0.8868\n",
            "Epoch 12/25\n",
            "55000/55000 [==============================] - 6s 108us/sample - loss: 0.2367 - accuracy: 0.9176 - val_loss: 0.3286 - val_accuracy: 0.8872\n",
            "Epoch 13/25\n",
            "55000/55000 [==============================] - 6s 109us/sample - loss: 0.2366 - accuracy: 0.9177 - val_loss: 0.3286 - val_accuracy: 0.8876\n",
            "Epoch 14/25\n",
            "55000/55000 [==============================] - 6s 110us/sample - loss: 0.2365 - accuracy: 0.9177 - val_loss: 0.3287 - val_accuracy: 0.8866\n",
            "Epoch 15/25\n",
            "55000/55000 [==============================] - 6s 107us/sample - loss: 0.2364 - accuracy: 0.9179 - val_loss: 0.3285 - val_accuracy: 0.8872\n",
            "Epoch 16/25\n",
            "55000/55000 [==============================] - 6s 109us/sample - loss: 0.2364 - accuracy: 0.9178 - val_loss: 0.3285 - val_accuracy: 0.8868\n",
            "Epoch 17/25\n",
            "55000/55000 [==============================] - 6s 108us/sample - loss: 0.2362 - accuracy: 0.9176 - val_loss: 0.3286 - val_accuracy: 0.8872\n",
            "Epoch 18/25\n",
            "55000/55000 [==============================] - 6s 108us/sample - loss: 0.2362 - accuracy: 0.9179 - val_loss: 0.3285 - val_accuracy: 0.8874\n",
            "Epoch 19/25\n",
            "55000/55000 [==============================] - 6s 111us/sample - loss: 0.2361 - accuracy: 0.9180 - val_loss: 0.3285 - val_accuracy: 0.8870\n",
            "Epoch 20/25\n",
            "55000/55000 [==============================] - 6s 107us/sample - loss: 0.2360 - accuracy: 0.9178 - val_loss: 0.3285 - val_accuracy: 0.8868\n",
            "Epoch 21/25\n",
            "55000/55000 [==============================] - 6s 108us/sample - loss: 0.2359 - accuracy: 0.9181 - val_loss: 0.3286 - val_accuracy: 0.8866\n",
            "Epoch 22/25\n",
            "55000/55000 [==============================] - 6s 109us/sample - loss: 0.2358 - accuracy: 0.9178 - val_loss: 0.3284 - val_accuracy: 0.8870\n",
            "Epoch 23/25\n",
            "55000/55000 [==============================] - 6s 107us/sample - loss: 0.2358 - accuracy: 0.9179 - val_loss: 0.3285 - val_accuracy: 0.8870\n",
            "Epoch 24/25\n",
            "55000/55000 [==============================] - 6s 109us/sample - loss: 0.2357 - accuracy: 0.9179 - val_loss: 0.3284 - val_accuracy: 0.8870\n",
            "Epoch 25/25\n",
            "55000/55000 [==============================] - 6s 108us/sample - loss: 0.2356 - accuracy: 0.9181 - val_loss: 0.3285 - val_accuracy: 0.8870\n"
          ],
          "name": "stdout"
        }
      ]
    },
    {
      "cell_type": "code",
      "metadata": {
        "id": "OaXXx-sx_0cL",
        "colab_type": "code",
        "colab": {
          "base_uri": "https://localhost:8080/",
          "height": 303
        },
        "outputId": "3bf33821-e1d4-4738-fb5f-583548601579"
      },
      "source": [
        "learning_rate = 0.01\n",
        "decay = 1e-4\n",
        "batch_size = 32\n",
        "n_steps_per_epoch = len(X_train) // batch_size\n",
        "epochs = np.arange(25)\n",
        "lrs = learning_rate / (1 + decay * epochs * n_steps_per_epoch)\n",
        "\n",
        "plt.plot(epochs, lrs,  \"o-\")\n",
        "plt.axis([0, 25 - 1, 0, 0.01])\n",
        "plt.xlabel(\"Epoch\")\n",
        "plt.ylabel(\"Learning Rate\")\n",
        "plt.title(\"Power Scheduling\", fontsize=14)\n",
        "plt.grid(True)\n",
        "plt.show()"
      ],
      "execution_count": 18,
      "outputs": [
        {
          "output_type": "display_data",
          "data": {
            "image/png": "[encoded data removed]",
            "text/plain": [
              "<Figure size 432x288 with 1 Axes>"
            ]
          },
          "metadata": {
            "tags": []
          }
        }
      ]
    },
    {
      "cell_type": "markdown",
      "metadata": {
        "id": "KTG4nE7bBC-C",
        "colab_type": "text"
      },
      "source": [
        "### Exponential Scheduling"
      ]
    },
    {
      "cell_type": "markdown",
      "metadata": {
        "id": "_3gLkl5JBF0-",
        "colab_type": "text"
      },
      "source": [
        "Set the learning rate to: η(t) = η0 0.1t/s. The learning rate will gradually drop by a factor of 10 every s steps. While power scheduling reduces the learning rate more and more slowly, exponential scheduling keeps slashing it by a factor of 10 every s steps."
      ]
    },
    {
      "cell_type": "code",
      "metadata": {
        "id": "SAUmhoxIA6GM",
        "colab_type": "code",
        "colab": {}
      },
      "source": [
        "def exponential_decay_fn(epoch):\n",
        "  return 0.01 * 0.1 ** (epoch / 20)"
      ],
      "execution_count": 0,
      "outputs": []
    },
    {
      "cell_type": "code",
      "metadata": {
        "id": "WojLdWDpBpMp",
        "colab_type": "code",
        "colab": {}
      },
      "source": [
        "def exponential_decay(lr0, s):\n",
        "\n",
        "  def exponential_decay_fn(epoch):\n",
        "    return lr0 * 0.1 ** (epoch / s)\n",
        "  \n",
        "  return exponential_decay_fn\n",
        "\n",
        "exponential_decay_fn = exponential_decay(lr0=0.01, s=20) "
      ],
      "execution_count": 0,
      "outputs": []
    },
    {
      "cell_type": "code",
      "metadata": {
        "id": "VUaCCeQVCEhW",
        "colab_type": "code",
        "colab": {}
      },
      "source": [
        "model = Sequential([\n",
        "    Flatten(input_shape=[28, 28]),\n",
        "    Dense(300, activation='selu', kernel_initializer='lecun_normal'),\n",
        "    Dense(100, activation='selu', kernel_initializer='lecun_normal'), \n",
        "    Dense(10, activation='softmax'),             \n",
        "])\n",
        "\n",
        "model.compile(loss='sparse_categorical_crossentropy', optimizer=SGD(learning_rate=0.01, decay=1e-4), metrics=['accuracy'])"
      ],
      "execution_count": 0,
      "outputs": []
    },
    {
      "cell_type": "code",
      "metadata": {
        "id": "suPEBpQ0CROI",
        "colab_type": "code",
        "colab": {
          "base_uri": "https://localhost:8080/",
          "height": 924
        },
        "outputId": "07c7b7bb-3c20-485e-cfe9-ee670c75edb7"
      },
      "source": [
        "n_epochs = 25\n",
        "lr_scheduler = tf.keras.callbacks.LearningRateScheduler(exponential_decay_fn)\n",
        "\n",
        "history = model.fit(X_train_scaled, y_train, epochs=n_epochs, validation_data=(X_valid_scaled, y_valid), callbacks=[lr_scheduler])"
      ],
      "execution_count": 15,
      "outputs": [
        {
          "output_type": "stream",
          "text": [
            "Train on 55000 samples, validate on 5000 samples\n",
            "Epoch 1/25\n",
            "55000/55000 [==============================] - 7s 122us/sample - loss: 0.2664 - accuracy: 0.9057 - val_loss: 0.3348 - val_accuracy: 0.8808\n",
            "Epoch 2/25\n",
            "55000/55000 [==============================] - 6s 114us/sample - loss: 0.2624 - accuracy: 0.9073 - val_loss: 0.3365 - val_accuracy: 0.8836\n",
            "Epoch 3/25\n",
            "55000/55000 [==============================] - 6s 112us/sample - loss: 0.2589 - accuracy: 0.9087 - val_loss: 0.3337 - val_accuracy: 0.8810\n",
            "Epoch 4/25\n",
            "55000/55000 [==============================] - 6s 112us/sample - loss: 0.2559 - accuracy: 0.9098 - val_loss: 0.3329 - val_accuracy: 0.8848\n",
            "Epoch 5/25\n",
            "55000/55000 [==============================] - 6s 112us/sample - loss: 0.2535 - accuracy: 0.9109 - val_loss: 0.3316 - val_accuracy: 0.8826\n",
            "Epoch 6/25\n",
            "55000/55000 [==============================] - 6s 112us/sample - loss: 0.2514 - accuracy: 0.9121 - val_loss: 0.3304 - val_accuracy: 0.8876\n",
            "Epoch 7/25\n",
            "55000/55000 [==============================] - 6s 111us/sample - loss: 0.2495 - accuracy: 0.9127 - val_loss: 0.3301 - val_accuracy: 0.8858\n",
            "Epoch 8/25\n",
            "55000/55000 [==============================] - 6s 109us/sample - loss: 0.2476 - accuracy: 0.9131 - val_loss: 0.3309 - val_accuracy: 0.8854\n",
            "Epoch 9/25\n",
            "55000/55000 [==============================] - 6s 109us/sample - loss: 0.2464 - accuracy: 0.9136 - val_loss: 0.3311 - val_accuracy: 0.8854\n",
            "Epoch 10/25\n",
            "55000/55000 [==============================] - 6s 110us/sample - loss: 0.2452 - accuracy: 0.9144 - val_loss: 0.3303 - val_accuracy: 0.8858\n",
            "Epoch 11/25\n",
            "55000/55000 [==============================] - 6s 109us/sample - loss: 0.2441 - accuracy: 0.9151 - val_loss: 0.3302 - val_accuracy: 0.8866\n",
            "Epoch 12/25\n",
            "55000/55000 [==============================] - 6s 111us/sample - loss: 0.2432 - accuracy: 0.9155 - val_loss: 0.3305 - val_accuracy: 0.8846\n",
            "Epoch 13/25\n",
            "55000/55000 [==============================] - 6s 107us/sample - loss: 0.2423 - accuracy: 0.9156 - val_loss: 0.3296 - val_accuracy: 0.8868\n",
            "Epoch 14/25\n",
            "55000/55000 [==============================] - 6s 108us/sample - loss: 0.2416 - accuracy: 0.9155 - val_loss: 0.3289 - val_accuracy: 0.8864\n",
            "Epoch 15/25\n",
            "55000/55000 [==============================] - 6s 109us/sample - loss: 0.2411 - accuracy: 0.9160 - val_loss: 0.3289 - val_accuracy: 0.8868\n",
            "Epoch 16/25\n",
            "55000/55000 [==============================] - 6s 112us/sample - loss: 0.2405 - accuracy: 0.9162 - val_loss: 0.3287 - val_accuracy: 0.8866\n",
            "Epoch 17/25\n",
            "55000/55000 [==============================] - 6s 111us/sample - loss: 0.2401 - accuracy: 0.9159 - val_loss: 0.3295 - val_accuracy: 0.8864\n",
            "Epoch 18/25\n",
            "55000/55000 [==============================] - 6s 109us/sample - loss: 0.2396 - accuracy: 0.9166 - val_loss: 0.3286 - val_accuracy: 0.8878\n",
            "Epoch 19/25\n",
            "55000/55000 [==============================] - 6s 109us/sample - loss: 0.2393 - accuracy: 0.9169 - val_loss: 0.3288 - val_accuracy: 0.8870\n",
            "Epoch 20/25\n",
            "55000/55000 [==============================] - 6s 110us/sample - loss: 0.2390 - accuracy: 0.9166 - val_loss: 0.3287 - val_accuracy: 0.8864\n",
            "Epoch 21/25\n",
            "55000/55000 [==============================] - 6s 109us/sample - loss: 0.2387 - accuracy: 0.9170 - val_loss: 0.3288 - val_accuracy: 0.8876\n",
            "Epoch 22/25\n",
            "55000/55000 [==============================] - 6s 109us/sample - loss: 0.2385 - accuracy: 0.9169 - val_loss: 0.3291 - val_accuracy: 0.8868\n",
            "Epoch 23/25\n",
            "55000/55000 [==============================] - 6s 108us/sample - loss: 0.2383 - accuracy: 0.9171 - val_loss: 0.3291 - val_accuracy: 0.8862\n",
            "Epoch 24/25\n",
            "55000/55000 [==============================] - 6s 111us/sample - loss: 0.2381 - accuracy: 0.9171 - val_loss: 0.3289 - val_accuracy: 0.8864\n",
            "Epoch 25/25\n",
            "55000/55000 [==============================] - 6s 110us/sample - loss: 0.2379 - accuracy: 0.9171 - val_loss: 0.3290 - val_accuracy: 0.8862\n"
          ],
          "name": "stdout"
        }
      ]
    },
    {
      "cell_type": "code",
      "metadata": {
        "id": "GB1YWdq4C2QW",
        "colab_type": "code",
        "colab": {
          "base_uri": "https://localhost:8080/",
          "height": 303
        },
        "outputId": "2f04cfd3-61e9-4a5a-a4f7-7e0cb81ce8c1"
      },
      "source": [
        "plt.plot(history.epoch, history.history[\"lr\"], \"o-\")\n",
        "plt.axis([0, n_epochs - 1, 0, 0.011])\n",
        "plt.xlabel(\"Epoch\")\n",
        "plt.ylabel(\"Learning Rate\")\n",
        "plt.title(\"Exponential Scheduling\", fontsize=14)\n",
        "plt.grid(True)\n",
        "plt.show()"
      ],
      "execution_count": 14,
      "outputs": [
        {
          "output_type": "display_data",
          "data": {
            "image/png": "[encoded data removed]",
            "text/plain": [
              "<Figure size 432x288 with 1 Axes>"
            ]
          },
          "metadata": {
            "tags": []
          }
        }
      ]
    },
    {
      "cell_type": "markdown",
      "metadata": {
        "id": "FijcwcQIJ6eh",
        "colab_type": "text"
      },
      "source": [
        "The schedule function can take the current learning rate as a second argument:"
      ]
    },
    {
      "cell_type": "code",
      "metadata": {
        "id": "knKVwWC6DjMY",
        "colab_type": "code",
        "colab": {}
      },
      "source": [
        "def exponential_decay_fn(epoch, lr):\n",
        "  return lr * 0.1 ** (1 / 20)"
      ],
      "execution_count": 0,
      "outputs": []
    },
    {
      "cell_type": "markdown",
      "metadata": {
        "id": "L_KldGPRKaPu",
        "colab_type": "text"
      },
      "source": [
        "If you want to update the learning rate at each iteration rather than at each epoch, you must write your own callback class:"
      ]
    },
    {
      "cell_type": "code",
      "metadata": {
        "id": "vz8QKHn_KdZq",
        "colab_type": "code",
        "colab": {
          "base_uri": "https://localhost:8080/",
          "height": 924
        },
        "outputId": "05be1e06-e185-4404-bd78-67b97bb28ab6"
      },
      "source": [
        "K = keras.backend\n",
        "\n",
        "class ExponentialDecay(keras.callbacks.Callback):\n",
        "\n",
        "  def __init__(self, s=40000):\n",
        "    super().__init__()\n",
        "    self.s = s\n",
        "\n",
        "  def on_batch_begin(self, batch, logs=None):\n",
        "    # Note: the `batch` argument is reset at each epoch\n",
        "    lr = K.get_value(self.model.optimizer.lr)\n",
        "    K.set_value(self.model.optimizer.lr, lr * 0.1 ** (1 / s))\n",
        "\n",
        "  def on_epoch_end(self, epoch, logs=None):\n",
        "    logs = logs or {}\n",
        "    logs['lr'] = K.get_value(self.model.optimizer.lr)\n",
        "\n",
        "\n",
        "model = Sequential([\n",
        "    Flatten(input_shape=[28, 28]),\n",
        "    Dense(300, activation='selu', kernel_initializer='lecun_normal'),\n",
        "    Dense(100, activation='selu', kernel_initializer='lecun_normal'), \n",
        "    Dense(10, activation='softmax'),             \n",
        "])\n",
        "\n",
        "model.compile(loss='sparse_categorical_crossentropy', optimizer=SGD(learning_rate=0.01, decay=1e-4), metrics=['accuracy'])\n",
        "\n",
        "lr0 = 0.01\n",
        "optimizer = keras.optimizers.Nadam(lr=lr0)\n",
        "model.compile(loss='sparse_categorical_crossentropy', optimizer=optimizer, metrics=['accuracy'])\n",
        "n_epochs = 25\n",
        "\n",
        "s = 20 * len(X_train) // 32    # number of steps in 20 epochs (batch size = 32)\n",
        "exp_decay = ExponentialDecay(s)\n",
        "history = model.fit(X_train_scaled, y_train, epochs=n_epochs, validation_data=(X_valid_scaled, y_valid), callbacks=[exp_decay])"
      ],
      "execution_count": 19,
      "outputs": [
        {
          "output_type": "stream",
          "text": [
            "Train on 55000 samples, validate on 5000 samples\n",
            "Epoch 1/25\n",
            "55000/55000 [==============================] - 13s 233us/sample - loss: 0.7858 - accuracy: 0.7707 - val_loss: 0.6059 - val_accuracy: 0.8114\n",
            "Epoch 2/25\n",
            "55000/55000 [==============================] - 12s 212us/sample - loss: 0.6271 - accuracy: 0.8071 - val_loss: 0.5873 - val_accuracy: 0.8312\n",
            "Epoch 3/25\n",
            "55000/55000 [==============================] - 12s 217us/sample - loss: 0.5694 - accuracy: 0.8241 - val_loss: 0.5010 - val_accuracy: 0.8490\n",
            "Epoch 4/25\n",
            "55000/55000 [==============================] - 12s 213us/sample - loss: 0.4928 - accuracy: 0.8444 - val_loss: 0.5444 - val_accuracy: 0.8334\n",
            "Epoch 5/25\n",
            "55000/55000 [==============================] - 12s 222us/sample - loss: 0.4681 - accuracy: 0.8516 - val_loss: 0.6302 - val_accuracy: 0.8178\n",
            "Epoch 6/25\n",
            "55000/55000 [==============================] - 12s 221us/sample - loss: 0.4176 - accuracy: 0.8661 - val_loss: 0.4971 - val_accuracy: 0.8568\n",
            "Epoch 7/25\n",
            "55000/55000 [==============================] - 12s 218us/sample - loss: 0.3896 - accuracy: 0.8751 - val_loss: 0.4790 - val_accuracy: 0.8684\n",
            "Epoch 8/25\n",
            "55000/55000 [==============================] - 12s 219us/sample - loss: 0.3651 - accuracy: 0.8822 - val_loss: 0.4572 - val_accuracy: 0.8722\n",
            "Epoch 9/25\n",
            "55000/55000 [==============================] - 12s 216us/sample - loss: 0.3339 - accuracy: 0.8912 - val_loss: 0.4617 - val_accuracy: 0.8756\n",
            "Epoch 10/25\n",
            "55000/55000 [==============================] - 12s 215us/sample - loss: 0.3058 - accuracy: 0.8972 - val_loss: 0.4443 - val_accuracy: 0.8714\n",
            "Epoch 11/25\n",
            "55000/55000 [==============================] - 12s 213us/sample - loss: 0.2808 - accuracy: 0.9050 - val_loss: 0.5088 - val_accuracy: 0.8720\n",
            "Epoch 12/25\n",
            "55000/55000 [==============================] - 12s 213us/sample - loss: 0.2603 - accuracy: 0.9129 - val_loss: 0.4384 - val_accuracy: 0.8790\n",
            "Epoch 13/25\n",
            "55000/55000 [==============================] - 12s 215us/sample - loss: 0.2394 - accuracy: 0.9200 - val_loss: 0.5366 - val_accuracy: 0.8822\n",
            "Epoch 14/25\n",
            "55000/55000 [==============================] - 13s 235us/sample - loss: 0.2274 - accuracy: 0.9243 - val_loss: 0.4812 - val_accuracy: 0.8818\n",
            "Epoch 15/25\n",
            "55000/55000 [==============================] - 12s 215us/sample - loss: 0.2111 - accuracy: 0.9274 - val_loss: 0.4076 - val_accuracy: 0.8878\n",
            "Epoch 16/25\n",
            "55000/55000 [==============================] - 12s 213us/sample - loss: 0.1914 - accuracy: 0.9337 - val_loss: 0.4643 - val_accuracy: 0.8796\n",
            "Epoch 17/25\n",
            "55000/55000 [==============================] - 12s 213us/sample - loss: 0.1778 - accuracy: 0.9394 - val_loss: 0.4673 - val_accuracy: 0.8870\n",
            "Epoch 18/25\n",
            "55000/55000 [==============================] - 12s 215us/sample - loss: 0.1671 - accuracy: 0.9433 - val_loss: 0.4795 - val_accuracy: 0.8904\n",
            "Epoch 19/25\n",
            "55000/55000 [==============================] - 12s 217us/sample - loss: 0.1538 - accuracy: 0.9479 - val_loss: 0.5046 - val_accuracy: 0.8864\n",
            "Epoch 20/25\n",
            "55000/55000 [==============================] - 12s 214us/sample - loss: 0.1466 - accuracy: 0.9510 - val_loss: 0.4957 - val_accuracy: 0.8886\n",
            "Epoch 21/25\n",
            "55000/55000 [==============================] - 12s 213us/sample - loss: 0.1364 - accuracy: 0.9552 - val_loss: 0.5186 - val_accuracy: 0.8896\n",
            "Epoch 22/25\n",
            "55000/55000 [==============================] - 12s 212us/sample - loss: 0.1245 - accuracy: 0.9586 - val_loss: 0.5524 - val_accuracy: 0.8890\n",
            "Epoch 23/25\n",
            "55000/55000 [==============================] - 12s 213us/sample - loss: 0.1173 - accuracy: 0.9615 - val_loss: 0.5799 - val_accuracy: 0.8900\n",
            "Epoch 24/25\n",
            "55000/55000 [==============================] - 12s 216us/sample - loss: 0.1109 - accuracy: 0.9642 - val_loss: 0.5924 - val_accuracy: 0.8852\n",
            "Epoch 25/25\n",
            "55000/55000 [==============================] - 12s 212us/sample - loss: 0.1038 - accuracy: 0.9659 - val_loss: 0.6478 - val_accuracy: 0.8860\n"
          ],
          "name": "stdout"
        }
      ]
    },
    {
      "cell_type": "code",
      "metadata": {
        "id": "7M1NmwPNNsOG",
        "colab_type": "code",
        "colab": {
          "base_uri": "https://localhost:8080/",
          "height": 303
        },
        "outputId": "e308af27-88be-41a2-f948-2a915e00c95d"
      },
      "source": [
        "n_steps = n_epochs * len(X_train) // 32\n",
        "steps = np.arange(n_steps)\n",
        "lrs = lr0 * 0.1 ** (steps / s)\n",
        "\n",
        "plt.plot(steps, lrs, \"-\", linewidth=2)\n",
        "plt.axis([0, n_steps - 1, 0, lr0 * 1.1])\n",
        "plt.xlabel(\"Batch\")\n",
        "plt.ylabel(\"Learning Rate\")\n",
        "plt.title(\"Exponential Scheduling (per batch)\", fontsize=14)\n",
        "plt.grid(True)\n",
        "plt.show()"
      ],
      "execution_count": 20,
      "outputs": [
        {
          "output_type": "display_data",
          "data": {
            "image/png": "[encoded data removed]",
            "text/plain": [
              "<Figure size 432x288 with 1 Axes>"
            ]
          },
          "metadata": {
            "tags": []
          }
        }
      ]
    },
    {
      "cell_type": "markdown",
      "metadata": {
        "id": "cLysEkE1OghD",
        "colab_type": "text"
      },
      "source": [
        "### Piecewise constant scheduling"
      ]
    },
    {
      "cell_type": "markdown",
      "metadata": {
        "id": "ruCFOFxJOhqM",
        "colab_type": "text"
      },
      "source": [
        "Use a constant learning rate for a number of epochs (e.g., η0 = 0.1 for 5 epochs), then a smaller learning rate for another number of epochs (e.g., η1 = 0.001 for 50 epochs), and so on. Although this solution can work very well, it requires fiddling around to figure out the right sequence of learning rates, and how long to use each of them."
      ]
    },
    {
      "cell_type": "code",
      "metadata": {
        "id": "0uN56OFtO86O",
        "colab_type": "code",
        "colab": {}
      },
      "source": [
        ""
      ],
      "execution_count": 0,
      "outputs": []
    }
  ]
}